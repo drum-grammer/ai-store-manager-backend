{
 "cells": [
  {
   "cell_type": "code",
   "execution_count": 1,
   "id": "initial_id",
   "metadata": {
    "collapsed": true,
    "ExecuteTime": {
     "end_time": "2024-01-18T23:40:12.458812Z",
     "start_time": "2024-01-18T23:40:11.382276Z"
    }
   },
   "outputs": [
    {
     "name": "stdout",
     "output_type": "stream",
     "text": [
      "Collecting haversine\r\n",
      "  Downloading haversine-2.8.1-py2.py3-none-any.whl.metadata (5.9 kB)\r\n",
      "Downloading haversine-2.8.1-py2.py3-none-any.whl (7.7 kB)\r\n",
      "Installing collected packages: haversine\r\n",
      "Successfully installed haversine-2.8.1\r\n"
     ]
    }
   ],
   "source": [
    "!pip install haversine\n"
   ]
  },
  {
   "cell_type": "code",
   "outputs": [
    {
     "name": "stdout",
     "output_type": "stream",
     "text": [
      "두 지점 사이의 거리는 325.1117079125594 km입니다.\n"
     ]
    }
   ],
   "source": [
    "from haversine import haversine\n",
    "\n",
    "# 첫 번째 지점의 위도와 경도 (예: 서울)\n",
    "lat1, lon1 = 37.5665, 126.9780\n",
    "\n",
    "# 두 번째 지점의 위도와 경도 (예: 부산)\n",
    "lat2, lon2 = 35.1796, 129.0756\n",
    "\n",
    "# 두 지점의 좌표 설정\n",
    "point1 = (lat1, lon1)\n",
    "point2 = (lat2, lon2)\n",
    "\n",
    "# 거리 계산 (기본 단위: 킬로미터)\n",
    "distance = haversine(point1, point2)\n",
    "\n",
    "print(f\"두 지점 사이의 거리는 {distance} km입니다.\")\n"
   ],
   "metadata": {
    "collapsed": false,
    "ExecuteTime": {
     "end_time": "2024-01-18T23:40:22.276543Z",
     "start_time": "2024-01-18T23:40:18.828596Z"
    }
   },
   "id": "c7929961d41feb3d",
   "execution_count": 2
  },
  {
   "cell_type": "code",
   "outputs": [],
   "source": [],
   "metadata": {
    "collapsed": false
   },
   "id": "1b156b9b15444fc5"
  }
 ],
 "metadata": {
  "kernelspec": {
   "display_name": "Python 3",
   "language": "python",
   "name": "python3"
  },
  "language_info": {
   "codemirror_mode": {
    "name": "ipython",
    "version": 2
   },
   "file_extension": ".py",
   "mimetype": "text/x-python",
   "name": "python",
   "nbconvert_exporter": "python",
   "pygments_lexer": "ipython2",
   "version": "2.7.6"
  }
 },
 "nbformat": 4,
 "nbformat_minor": 5
}
